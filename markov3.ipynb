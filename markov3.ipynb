{
 "cells": [
  {
   "cell_type": "code",
   "execution_count": 1,
   "metadata": {},
   "outputs": [
    {
     "name": "stdout",
     "output_type": "stream",
     "text": [
      "number of lines =  36008\n",
      "number of words =  6129\n"
     ]
    }
   ],
   "source": [
    "import numpy as np\n",
    "data = open('3gab.txt', \"r\", encoding = \"utf-8\").read()\n",
    "print(\"number of lines = \", len(data))\n",
    "\n",
    "word = data.split()\n",
    "print(\"number of words = \", len(word))"
   ]
  },
  {
   "cell_type": "code",
   "execution_count": 2,
   "metadata": {},
   "outputs": [],
   "source": [
    "def make_pairs(word):\n",
    "    for i in range(len(word)-1):\n",
    "        yield (word[i], word[i+1])\n",
    "\n",
    "pairs = make_pairs(word)"
   ]
  },
  {
   "cell_type": "code",
   "execution_count": 6,
   "metadata": {},
   "outputs": [],
   "source": [
    "word_dict = {}\n",
    "for word_1, word_2 in pairs:\n",
    "    if word_1 in word_dict.keys():\n",
    "        word_dict[word_1].append(word_2)\n",
    "    else:\n",
    "        word_dict[word_1] = [word_2]"
   ]
  },
  {
   "cell_type": "code",
   "execution_count": 7,
   "metadata": {},
   "outputs": [],
   "source": [
    "first_word = np.random.choice(word)"
   ]
  },
  {
   "cell_type": "code",
   "execution_count": 22,
   "metadata": {},
   "outputs": [],
   "source": [
    "while first_word.islower():\n",
    "    first_word = np.random.choice(word)\n",
    "\n",
    "chain = [first_word]\n",
    "\n",
    "n_words = 50\n",
    "\n"
   ]
  },
  {
   "cell_type": "code",
   "execution_count": 23,
   "metadata": {},
   "outputs": [
    {
     "name": "stdout",
     "output_type": "stream",
     "text": [
      "\n",
      "\n"
     ]
    }
   ],
   "source": [
    "for i in range(n_words):\n",
    "    chain.append(np.random.choice(word_dict[chain[-1]]))\n",
    "    \n",
    "print(\"\\n\")\n",
    "\n",
    "    "
   ]
  },
  {
   "cell_type": "code",
   "execution_count": 24,
   "metadata": {},
   "outputs": [
    {
     "data": {
      "text/plain": [
       "'West End. A small annuity. What I will act.\" \"No doubt it hardest to see that a client desired to you can only his own mistress was one man came on hand from Italy.\" \"They will be nothing,\\' said he roused himself at the tenner.\" \"I\\'ll see it.\" \"You gave and I must be no such a book in connection with a plan. Black Steve Dixie, the house. I said Holmes. \"Merely a very close surveillance, for lunch when even the chloroform rag which were not appear in thought, but another was as my scent-bottle, Steve.\" \"You look into his activities had best clear the visitors was \"The Three Gables. I confess that I only just settled me about that, and hate was awaiting us. It was nothing with it is provided to his effects, and his arm. She broke up if the face for my whole truth.\" Without waiting for all here,\" said that I think you gather from the surface. Holmes looked in the whole thing honestly. I had a care! You have been some very life, looking out of the object, whatever it without buying you a-doin\\' of?\" she smiled, like to the object, whatever it may it'"
      ]
     },
     "execution_count": 24,
     "metadata": {},
     "output_type": "execute_result"
    }
   ],
   "source": [
    "\" \".join(chain)"
   ]
  },
  {
   "cell_type": "code",
   "execution_count": null,
   "metadata": {},
   "outputs": [],
   "source": []
  }
 ],
 "metadata": {
  "kernelspec": {
   "display_name": "Python 3",
   "language": "python",
   "name": "python3"
  },
  "language_info": {
   "codemirror_mode": {
    "name": "ipython",
    "version": 3
   },
   "file_extension": ".py",
   "mimetype": "text/x-python",
   "name": "python",
   "nbconvert_exporter": "python",
   "pygments_lexer": "ipython3",
   "version": "3.11.0"
  }
 },
 "nbformat": 4,
 "nbformat_minor": 2
}
